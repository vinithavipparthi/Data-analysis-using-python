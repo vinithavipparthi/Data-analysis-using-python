{
  "cells": [
    {
      "cell_type": "code",
      "execution_count": null,
      "metadata": {
        "id": "AjE9N1n52oAH"
      },
      "outputs": [],
      "source": [
        "#hypothesis testing:\n",
        "#import\n",
        "import numpy as np\n",
        "from scipy import stats"
      ]
    },
    {
      "cell_type": "code",
      "execution_count": null,
      "metadata": {
        "colab": {
          "base_uri": "https://localhost:8080/"
        },
        "id": "jLn4EHjH3GsL",
        "outputId": "8be764d0-ea80-4c84-9d19-36c354658228"
      },
      "outputs": [
        {
          "name": "stdout",
          "output_type": "stream",
          "text": [
            "25.4\n",
            "21.6\n"
          ]
        }
      ],
      "source": [
        "#two groups of data\n",
        "data1=np.array([28,21,26,29,23])\n",
        "data2=np.array([21,25,28,19,15])\n",
        "print(data1.mean())\n",
        "print(data2.mean())"
      ]
    },
    {
      "cell_type": "code",
      "execution_count": null,
      "metadata": {
        "id": "C5iNlwzM33B0"
      },
      "outputs": [],
      "source": [
        "#perform t-test assuming unequal variances\n",
        "t_start,p_value=stats.ttest_ind(data1,data2,equal_var=False)"
      ]
    },
    {
      "cell_type": "code",
      "execution_count": null,
      "metadata": {
        "colab": {
          "base_uri": "https://localhost:8080/"
        },
        "id": "2_aIcK4L47Lf",
        "outputId": "8611fb58-7c28-4cae-a7ce-43272c7a4e00"
      },
      "outputs": [
        {
          "name": "stdout",
          "output_type": "stream",
          "text": [
            "t-statistics: 1.3950238866072684\n",
            "p-value 0.20602784373779304\n"
          ]
        }
      ],
      "source": [
        "#print the results\n",
        "print(\"t-statistics:\",t_start)\n",
        "print(\"p-value\",p_value)"
      ]
    },
    {
      "cell_type": "code",
      "execution_count": null,
      "metadata": {
        "id": "7UHqPvpJ6LBy"
      },
      "outputs": [],
      "source": [
        "alpha=0.05"
      ]
    },
    {
      "cell_type": "code",
      "execution_count": null,
      "metadata": {
        "colab": {
          "base_uri": "https://localhost:8080/"
        },
        "id": "Gbu_QPQA6RZS",
        "outputId": "396696ba-b6e9-41d9-e694-5d0a501d2b8c"
      },
      "outputs": [
        {
          "name": "stdout",
          "output_type": "stream",
          "text": [
            " fails to reject the null hyphotesis the mean is not significant\n"
          ]
        }
      ],
      "source": [
        "#Interpret the results\n",
        "if p_value <alpha:\n",
        "  print(\"reject the null hyphotessis  the mean significant\")\n",
        "else:\n",
        "    print(\" fails to reject the null hyphotesis the mean is not significant\")"
      ]
    },
    {
      "cell_type": "code",
      "execution_count": null,
      "metadata": {
        "id": "Tno924JB73H7"
      },
      "outputs": [],
      "source": [
        "import pandas as pd"
      ]
    },
    {
      "cell_type": "code",
      "execution_count": null,
      "metadata": {
        "colab": {
          "base_uri": "https://localhost:8080/",
          "height": 990
        },
        "id": "L6AbOqvN78F7",
        "outputId": "02a7a1ba-97ce-4388-caa2-affe923e9d32"
      },
      "outputs": [
        {
          "data": {
            "application/vnd.google.colaboratory.intrinsic+json": {
              "summary": "{\n  \"name\": \"df\",\n  \"rows\": 30,\n  \"fields\": [\n    {\n      \"column\": \"Vaccine\",\n      \"properties\": {\n        \"dtype\": \"category\",\n        \"num_unique_values\": 3,\n        \"samples\": [\n          \"A\",\n          \"B\",\n          \"C\"\n        ],\n        \"semantic_type\": \"\",\n        \"description\": \"\"\n      }\n    },\n    {\n      \"column\": \"Efficiency\",\n      \"properties\": {\n        \"dtype\": \"number\",\n        \"std\": 0.09277390384081255,\n        \"min\": 11.78586593636872,\n        \"max\": 12.1773469310999,\n        \"num_unique_values\": 30,\n        \"samples\": [\n          12.030537155723836,\n          12.062796176583795,\n          11.998091260793943\n        ],\n        \"semantic_type\": \"\",\n        \"description\": \"\"\n      }\n    },\n    {\n      \"column\": \"Rec_Rate\",\n      \"properties\": {\n        \"dtype\": \"number\",\n        \"std\": 0.22649737611103102,\n        \"min\": 9.49996036545115,\n        \"max\": 10.45208048291265,\n        \"num_unique_values\": 30,\n        \"samples\": [\n          10.278043635784803,\n          9.895115145507143,\n          10.109114209989029\n        ],\n        \"semantic_type\": \"\",\n        \"description\": \"\"\n      }\n    }\n  ]\n}",
              "type": "dataframe",
              "variable_name": "df"
            },
            "text/html": [
              "\n",
              "  <div id=\"df-ebf71f91-55e6-427c-a4dd-c4453caa8308\" class=\"colab-df-container\">\n",
              "    <div>\n",
              "<style scoped>\n",
              "    .dataframe tbody tr th:only-of-type {\n",
              "        vertical-align: middle;\n",
              "    }\n",
              "\n",
              "    .dataframe tbody tr th {\n",
              "        vertical-align: top;\n",
              "    }\n",
              "\n",
              "    .dataframe thead th {\n",
              "        text-align: right;\n",
              "    }\n",
              "</style>\n",
              "<table border=\"1\" class=\"dataframe\">\n",
              "  <thead>\n",
              "    <tr style=\"text-align: right;\">\n",
              "      <th></th>\n",
              "      <th>Vaccine</th>\n",
              "      <th>Efficiency</th>\n",
              "      <th>Rec_Rate</th>\n",
              "    </tr>\n",
              "  </thead>\n",
              "  <tbody>\n",
              "    <tr>\n",
              "      <th>0</th>\n",
              "      <td>A</td>\n",
              "      <td>12.025883</td>\n",
              "      <td>9.605293</td>\n",
              "    </tr>\n",
              "    <tr>\n",
              "      <th>1</th>\n",
              "      <td>B</td>\n",
              "      <td>12.122548</td>\n",
              "      <td>10.028289</td>\n",
              "    </tr>\n",
              "    <tr>\n",
              "      <th>2</th>\n",
              "      <td>C</td>\n",
              "      <td>11.785866</td>\n",
              "      <td>9.907720</td>\n",
              "    </tr>\n",
              "    <tr>\n",
              "      <th>3</th>\n",
              "      <td>C</td>\n",
              "      <td>11.921134</td>\n",
              "      <td>10.266012</td>\n",
              "    </tr>\n",
              "    <tr>\n",
              "      <th>4</th>\n",
              "      <td>B</td>\n",
              "      <td>11.924151</td>\n",
              "      <td>10.067632</td>\n",
              "    </tr>\n",
              "    <tr>\n",
              "      <th>5</th>\n",
              "      <td>A</td>\n",
              "      <td>11.908740</td>\n",
              "      <td>10.221654</td>\n",
              "    </tr>\n",
              "    <tr>\n",
              "      <th>6</th>\n",
              "      <td>A</td>\n",
              "      <td>11.860823</td>\n",
              "      <td>9.499960</td>\n",
              "    </tr>\n",
              "    <tr>\n",
              "      <th>7</th>\n",
              "      <td>C</td>\n",
              "      <td>12.177347</td>\n",
              "      <td>10.189300</td>\n",
              "    </tr>\n",
              "    <tr>\n",
              "      <th>8</th>\n",
              "      <td>B</td>\n",
              "      <td>11.961676</td>\n",
              "      <td>10.402605</td>\n",
              "    </tr>\n",
              "    <tr>\n",
              "      <th>9</th>\n",
              "      <td>A</td>\n",
              "      <td>11.900454</td>\n",
              "      <td>10.057798</td>\n",
              "    </tr>\n",
              "    <tr>\n",
              "      <th>10</th>\n",
              "      <td>C</td>\n",
              "      <td>12.101191</td>\n",
              "      <td>9.949734</td>\n",
              "    </tr>\n",
              "    <tr>\n",
              "      <th>11</th>\n",
              "      <td>A</td>\n",
              "      <td>12.005734</td>\n",
              "      <td>10.452080</td>\n",
              "    </tr>\n",
              "    <tr>\n",
              "      <th>12</th>\n",
              "      <td>B</td>\n",
              "      <td>11.923879</td>\n",
              "      <td>9.960761</td>\n",
              "    </tr>\n",
              "    <tr>\n",
              "      <th>13</th>\n",
              "      <td>A</td>\n",
              "      <td>11.848961</td>\n",
              "      <td>9.986264</td>\n",
              "    </tr>\n",
              "    <tr>\n",
              "      <th>14</th>\n",
              "      <td>B</td>\n",
              "      <td>12.028902</td>\n",
              "      <td>10.265233</td>\n",
              "    </tr>\n",
              "    <tr>\n",
              "      <th>15</th>\n",
              "      <td>C</td>\n",
              "      <td>12.062796</td>\n",
              "      <td>9.895115</td>\n",
              "    </tr>\n",
              "    <tr>\n",
              "      <th>16</th>\n",
              "      <td>C</td>\n",
              "      <td>11.944396</td>\n",
              "      <td>9.845354</td>\n",
              "    </tr>\n",
              "    <tr>\n",
              "      <th>17</th>\n",
              "      <td>A</td>\n",
              "      <td>11.890938</td>\n",
              "      <td>9.889413</td>\n",
              "    </tr>\n",
              "    <tr>\n",
              "      <th>18</th>\n",
              "      <td>B</td>\n",
              "      <td>11.884801</td>\n",
              "      <td>10.145793</td>\n",
              "    </tr>\n",
              "    <tr>\n",
              "      <th>19</th>\n",
              "      <td>B</td>\n",
              "      <td>11.867471</td>\n",
              "      <td>10.231961</td>\n",
              "    </tr>\n",
              "    <tr>\n",
              "      <th>20</th>\n",
              "      <td>C</td>\n",
              "      <td>11.876209</td>\n",
              "      <td>9.674698</td>\n",
              "    </tr>\n",
              "    <tr>\n",
              "      <th>21</th>\n",
              "      <td>B</td>\n",
              "      <td>11.948226</td>\n",
              "      <td>10.213221</td>\n",
              "    </tr>\n",
              "    <tr>\n",
              "      <th>22</th>\n",
              "      <td>C</td>\n",
              "      <td>11.980498</td>\n",
              "      <td>10.257953</td>\n",
              "    </tr>\n",
              "    <tr>\n",
              "      <th>23</th>\n",
              "      <td>A</td>\n",
              "      <td>11.998091</td>\n",
              "      <td>10.109114</td>\n",
              "    </tr>\n",
              "    <tr>\n",
              "      <th>24</th>\n",
              "      <td>C</td>\n",
              "      <td>12.027991</td>\n",
              "      <td>9.961764</td>\n",
              "    </tr>\n",
              "    <tr>\n",
              "      <th>25</th>\n",
              "      <td>B</td>\n",
              "      <td>12.094158</td>\n",
              "      <td>9.957994</td>\n",
              "    </tr>\n",
              "    <tr>\n",
              "      <th>26</th>\n",
              "      <td>A</td>\n",
              "      <td>11.990464</td>\n",
              "      <td>9.904013</td>\n",
              "    </tr>\n",
              "    <tr>\n",
              "      <th>27</th>\n",
              "      <td>C</td>\n",
              "      <td>12.030537</td>\n",
              "      <td>10.278044</td>\n",
              "    </tr>\n",
              "    <tr>\n",
              "      <th>28</th>\n",
              "      <td>A</td>\n",
              "      <td>11.855906</td>\n",
              "      <td>9.756439</td>\n",
              "    </tr>\n",
              "    <tr>\n",
              "      <th>29</th>\n",
              "      <td>B</td>\n",
              "      <td>11.897167</td>\n",
              "      <td>10.025968</td>\n",
              "    </tr>\n",
              "  </tbody>\n",
              "</table>\n",
              "</div>\n",
              "    <div class=\"colab-df-buttons\">\n",
              "\n",
              "  <div class=\"colab-df-container\">\n",
              "    <button class=\"colab-df-convert\" onclick=\"convertToInteractive('df-ebf71f91-55e6-427c-a4dd-c4453caa8308')\"\n",
              "            title=\"Convert this dataframe to an interactive table.\"\n",
              "            style=\"display:none;\">\n",
              "\n",
              "  <svg xmlns=\"http://www.w3.org/2000/svg\" height=\"24px\" viewBox=\"0 -960 960 960\">\n",
              "    <path d=\"M120-120v-720h720v720H120Zm60-500h600v-160H180v160Zm220 220h160v-160H400v160Zm0 220h160v-160H400v160ZM180-400h160v-160H180v160Zm440 0h160v-160H620v160ZM180-180h160v-160H180v160Zm440 0h160v-160H620v160Z\"/>\n",
              "  </svg>\n",
              "    </button>\n",
              "\n",
              "  <style>\n",
              "    .colab-df-container {\n",
              "      display:flex;\n",
              "      gap: 12px;\n",
              "    }\n",
              "\n",
              "    .colab-df-convert {\n",
              "      background-color: #E8F0FE;\n",
              "      border: none;\n",
              "      border-radius: 50%;\n",
              "      cursor: pointer;\n",
              "      display: none;\n",
              "      fill: #1967D2;\n",
              "      height: 32px;\n",
              "      padding: 0 0 0 0;\n",
              "      width: 32px;\n",
              "    }\n",
              "\n",
              "    .colab-df-convert:hover {\n",
              "      background-color: #E2EBFA;\n",
              "      box-shadow: 0px 1px 2px rgba(60, 64, 67, 0.3), 0px 1px 3px 1px rgba(60, 64, 67, 0.15);\n",
              "      fill: #174EA6;\n",
              "    }\n",
              "\n",
              "    .colab-df-buttons div {\n",
              "      margin-bottom: 4px;\n",
              "    }\n",
              "\n",
              "    [theme=dark] .colab-df-convert {\n",
              "      background-color: #3B4455;\n",
              "      fill: #D2E3FC;\n",
              "    }\n",
              "\n",
              "    [theme=dark] .colab-df-convert:hover {\n",
              "      background-color: #434B5C;\n",
              "      box-shadow: 0px 1px 3px 1px rgba(0, 0, 0, 0.15);\n",
              "      filter: drop-shadow(0px 1px 2px rgba(0, 0, 0, 0.3));\n",
              "      fill: #FFFFFF;\n",
              "    }\n",
              "  </style>\n",
              "\n",
              "    <script>\n",
              "      const buttonEl =\n",
              "        document.querySelector('#df-ebf71f91-55e6-427c-a4dd-c4453caa8308 button.colab-df-convert');\n",
              "      buttonEl.style.display =\n",
              "        google.colab.kernel.accessAllowed ? 'block' : 'none';\n",
              "\n",
              "      async function convertToInteractive(key) {\n",
              "        const element = document.querySelector('#df-ebf71f91-55e6-427c-a4dd-c4453caa8308');\n",
              "        const dataTable =\n",
              "          await google.colab.kernel.invokeFunction('convertToInteractive',\n",
              "                                                    [key], {});\n",
              "        if (!dataTable) return;\n",
              "\n",
              "        const docLinkHtml = 'Like what you see? Visit the ' +\n",
              "          '<a target=\"_blank\" href=https://colab.research.google.com/notebooks/data_table.ipynb>data table notebook</a>'\n",
              "          + ' to learn more about interactive tables.';\n",
              "        element.innerHTML = '';\n",
              "        dataTable['output_type'] = 'display_data';\n",
              "        await google.colab.output.renderOutput(dataTable, element);\n",
              "        const docLink = document.createElement('div');\n",
              "        docLink.innerHTML = docLinkHtml;\n",
              "        element.appendChild(docLink);\n",
              "      }\n",
              "    </script>\n",
              "  </div>\n",
              "\n",
              "\n",
              "<div id=\"df-d9d9a772-db74-45cc-ade1-69a086fa4123\">\n",
              "  <button class=\"colab-df-quickchart\" onclick=\"quickchart('df-d9d9a772-db74-45cc-ade1-69a086fa4123')\"\n",
              "            title=\"Suggest charts\"\n",
              "            style=\"display:none;\">\n",
              "\n",
              "<svg xmlns=\"http://www.w3.org/2000/svg\" height=\"24px\"viewBox=\"0 0 24 24\"\n",
              "     width=\"24px\">\n",
              "    <g>\n",
              "        <path d=\"M19 3H5c-1.1 0-2 .9-2 2v14c0 1.1.9 2 2 2h14c1.1 0 2-.9 2-2V5c0-1.1-.9-2-2-2zM9 17H7v-7h2v7zm4 0h-2V7h2v10zm4 0h-2v-4h2v4z\"/>\n",
              "    </g>\n",
              "</svg>\n",
              "  </button>\n",
              "\n",
              "<style>\n",
              "  .colab-df-quickchart {\n",
              "      --bg-color: #E8F0FE;\n",
              "      --fill-color: #1967D2;\n",
              "      --hover-bg-color: #E2EBFA;\n",
              "      --hover-fill-color: #174EA6;\n",
              "      --disabled-fill-color: #AAA;\n",
              "      --disabled-bg-color: #DDD;\n",
              "  }\n",
              "\n",
              "  [theme=dark] .colab-df-quickchart {\n",
              "      --bg-color: #3B4455;\n",
              "      --fill-color: #D2E3FC;\n",
              "      --hover-bg-color: #434B5C;\n",
              "      --hover-fill-color: #FFFFFF;\n",
              "      --disabled-bg-color: #3B4455;\n",
              "      --disabled-fill-color: #666;\n",
              "  }\n",
              "\n",
              "  .colab-df-quickchart {\n",
              "    background-color: var(--bg-color);\n",
              "    border: none;\n",
              "    border-radius: 50%;\n",
              "    cursor: pointer;\n",
              "    display: none;\n",
              "    fill: var(--fill-color);\n",
              "    height: 32px;\n",
              "    padding: 0;\n",
              "    width: 32px;\n",
              "  }\n",
              "\n",
              "  .colab-df-quickchart:hover {\n",
              "    background-color: var(--hover-bg-color);\n",
              "    box-shadow: 0 1px 2px rgba(60, 64, 67, 0.3), 0 1px 3px 1px rgba(60, 64, 67, 0.15);\n",
              "    fill: var(--button-hover-fill-color);\n",
              "  }\n",
              "\n",
              "  .colab-df-quickchart-complete:disabled,\n",
              "  .colab-df-quickchart-complete:disabled:hover {\n",
              "    background-color: var(--disabled-bg-color);\n",
              "    fill: var(--disabled-fill-color);\n",
              "    box-shadow: none;\n",
              "  }\n",
              "\n",
              "  .colab-df-spinner {\n",
              "    border: 2px solid var(--fill-color);\n",
              "    border-color: transparent;\n",
              "    border-bottom-color: var(--fill-color);\n",
              "    animation:\n",
              "      spin 1s steps(1) infinite;\n",
              "  }\n",
              "\n",
              "  @keyframes spin {\n",
              "    0% {\n",
              "      border-color: transparent;\n",
              "      border-bottom-color: var(--fill-color);\n",
              "      border-left-color: var(--fill-color);\n",
              "    }\n",
              "    20% {\n",
              "      border-color: transparent;\n",
              "      border-left-color: var(--fill-color);\n",
              "      border-top-color: var(--fill-color);\n",
              "    }\n",
              "    30% {\n",
              "      border-color: transparent;\n",
              "      border-left-color: var(--fill-color);\n",
              "      border-top-color: var(--fill-color);\n",
              "      border-right-color: var(--fill-color);\n",
              "    }\n",
              "    40% {\n",
              "      border-color: transparent;\n",
              "      border-right-color: var(--fill-color);\n",
              "      border-top-color: var(--fill-color);\n",
              "    }\n",
              "    60% {\n",
              "      border-color: transparent;\n",
              "      border-right-color: var(--fill-color);\n",
              "    }\n",
              "    80% {\n",
              "      border-color: transparent;\n",
              "      border-right-color: var(--fill-color);\n",
              "      border-bottom-color: var(--fill-color);\n",
              "    }\n",
              "    90% {\n",
              "      border-color: transparent;\n",
              "      border-bottom-color: var(--fill-color);\n",
              "    }\n",
              "  }\n",
              "</style>\n",
              "\n",
              "  <script>\n",
              "    async function quickchart(key) {\n",
              "      const quickchartButtonEl =\n",
              "        document.querySelector('#' + key + ' button');\n",
              "      quickchartButtonEl.disabled = true;  // To prevent multiple clicks.\n",
              "      quickchartButtonEl.classList.add('colab-df-spinner');\n",
              "      try {\n",
              "        const charts = await google.colab.kernel.invokeFunction(\n",
              "            'suggestCharts', [key], {});\n",
              "      } catch (error) {\n",
              "        console.error('Error during call to suggestCharts:', error);\n",
              "      }\n",
              "      quickchartButtonEl.classList.remove('colab-df-spinner');\n",
              "      quickchartButtonEl.classList.add('colab-df-quickchart-complete');\n",
              "    }\n",
              "    (() => {\n",
              "      let quickchartButtonEl =\n",
              "        document.querySelector('#df-d9d9a772-db74-45cc-ade1-69a086fa4123 button');\n",
              "      quickchartButtonEl.style.display =\n",
              "        google.colab.kernel.accessAllowed ? 'block' : 'none';\n",
              "    })();\n",
              "  </script>\n",
              "</div>\n",
              "\n",
              "  <div id=\"id_36a45f21-24b2-4539-9690-840f33a43bc1\">\n",
              "    <style>\n",
              "      .colab-df-generate {\n",
              "        background-color: #E8F0FE;\n",
              "        border: none;\n",
              "        border-radius: 50%;\n",
              "        cursor: pointer;\n",
              "        display: none;\n",
              "        fill: #1967D2;\n",
              "        height: 32px;\n",
              "        padding: 0 0 0 0;\n",
              "        width: 32px;\n",
              "      }\n",
              "\n",
              "      .colab-df-generate:hover {\n",
              "        background-color: #E2EBFA;\n",
              "        box-shadow: 0px 1px 2px rgba(60, 64, 67, 0.3), 0px 1px 3px 1px rgba(60, 64, 67, 0.15);\n",
              "        fill: #174EA6;\n",
              "      }\n",
              "\n",
              "      [theme=dark] .colab-df-generate {\n",
              "        background-color: #3B4455;\n",
              "        fill: #D2E3FC;\n",
              "      }\n",
              "\n",
              "      [theme=dark] .colab-df-generate:hover {\n",
              "        background-color: #434B5C;\n",
              "        box-shadow: 0px 1px 3px 1px rgba(0, 0, 0, 0.15);\n",
              "        filter: drop-shadow(0px 1px 2px rgba(0, 0, 0, 0.3));\n",
              "        fill: #FFFFFF;\n",
              "      }\n",
              "    </style>\n",
              "    <button class=\"colab-df-generate\" onclick=\"generateWithVariable('df')\"\n",
              "            title=\"Generate code using this dataframe.\"\n",
              "            style=\"display:none;\">\n",
              "\n",
              "  <svg xmlns=\"http://www.w3.org/2000/svg\" height=\"24px\"viewBox=\"0 0 24 24\"\n",
              "       width=\"24px\">\n",
              "    <path d=\"M7,19H8.4L18.45,9,17,7.55,7,17.6ZM5,21V16.75L18.45,3.32a2,2,0,0,1,2.83,0l1.4,1.43a1.91,1.91,0,0,1,.58,1.4,1.91,1.91,0,0,1-.58,1.4L9.25,21ZM18.45,9,17,7.55Zm-12,3A5.31,5.31,0,0,0,4.9,8.1,5.31,5.31,0,0,0,1,6.5,5.31,5.31,0,0,0,4.9,4.9,5.31,5.31,0,0,0,6.5,1,5.31,5.31,0,0,0,8.1,4.9,5.31,5.31,0,0,0,12,6.5,5.46,5.46,0,0,0,6.5,12Z\"/>\n",
              "  </svg>\n",
              "    </button>\n",
              "    <script>\n",
              "      (() => {\n",
              "      const buttonEl =\n",
              "        document.querySelector('#id_36a45f21-24b2-4539-9690-840f33a43bc1 button.colab-df-generate');\n",
              "      buttonEl.style.display =\n",
              "        google.colab.kernel.accessAllowed ? 'block' : 'none';\n",
              "\n",
              "      buttonEl.onclick = () => {\n",
              "        google.colab.notebook.generateWithVariable('df');\n",
              "      }\n",
              "      })();\n",
              "    </script>\n",
              "  </div>\n",
              "\n",
              "    </div>\n",
              "  </div>\n"
            ],
            "text/plain": [
              "   Vaccine  Efficiency   Rec_Rate\n",
              "0        A   12.025883   9.605293\n",
              "1        B   12.122548  10.028289\n",
              "2        C   11.785866   9.907720\n",
              "3        C   11.921134  10.266012\n",
              "4        B   11.924151  10.067632\n",
              "5        A   11.908740  10.221654\n",
              "6        A   11.860823   9.499960\n",
              "7        C   12.177347  10.189300\n",
              "8        B   11.961676  10.402605\n",
              "9        A   11.900454  10.057798\n",
              "10       C   12.101191   9.949734\n",
              "11       A   12.005734  10.452080\n",
              "12       B   11.923879   9.960761\n",
              "13       A   11.848961   9.986264\n",
              "14       B   12.028902  10.265233\n",
              "15       C   12.062796   9.895115\n",
              "16       C   11.944396   9.845354\n",
              "17       A   11.890938   9.889413\n",
              "18       B   11.884801  10.145793\n",
              "19       B   11.867471  10.231961\n",
              "20       C   11.876209   9.674698\n",
              "21       B   11.948226  10.213221\n",
              "22       C   11.980498  10.257953\n",
              "23       A   11.998091  10.109114\n",
              "24       C   12.027991   9.961764\n",
              "25       B   12.094158   9.957994\n",
              "26       A   11.990464   9.904013\n",
              "27       C   12.030537  10.278044\n",
              "28       A   11.855906   9.756439\n",
              "29       B   11.897167  10.025968"
            ]
          },
          "execution_count": 20,
          "metadata": {},
          "output_type": "execute_result"
        }
      ],
      "source": [
        "df=pd.read_csv(\"/content/Vaccine.csv\")\n",
        "df"
      ]
    },
    {
      "cell_type": "code",
      "execution_count": null,
      "metadata": {
        "colab": {
          "base_uri": "https://localhost:8080/"
        },
        "id": "Hejtxc9G8Hzx",
        "outputId": "e040cb71-daed-430a-96a2-c10c032aecdf"
      },
      "outputs": [
        {
          "name": "stdout",
          "output_type": "stream",
          "text": [
            "11.961564514213565\n",
            "10.033572680447492\n"
          ]
        }
      ],
      "source": [
        "#two groups of data\n",
        "group1=df['Efficiency']\n",
        "group2=df['Rec_Rate']\n",
        "print(group1.mean())\n",
        "print(group2.mean())"
      ]
    },
    {
      "cell_type": "code",
      "execution_count": null,
      "metadata": {
        "id": "j4Tipqff9hIp"
      },
      "outputs": [],
      "source": [
        "#perform t-test assuming unequal variances\n",
        "t_start,p_value=stats.ttest_ind(group1,group2,equal_var=False)"
      ]
    },
    {
      "cell_type": "code",
      "execution_count": null,
      "metadata": {
        "colab": {
          "base_uri": "https://localhost:8080/"
        },
        "id": "SXaxmmGt9ovH",
        "outputId": "bf6ee47d-a95d-438b-815a-04cb6bf54106"
      },
      "outputs": [
        {
          "name": "stdout",
          "output_type": "stream",
          "text": [
            "t-statistics: 43.144276880141796\n",
            "p-value 3.4493842608099316e-34\n"
          ]
        }
      ],
      "source": [
        "#print the results\n",
        "print(\"t-statistics:\",t_start)\n",
        "print(\"p-value\",p_value)"
      ]
    },
    {
      "cell_type": "code",
      "execution_count": null,
      "metadata": {
        "id": "SGxuisWn9uDb"
      },
      "outputs": [],
      "source": [
        "alpha=0.05"
      ]
    },
    {
      "cell_type": "code",
      "execution_count": null,
      "metadata": {
        "colab": {
          "base_uri": "https://localhost:8080/"
        },
        "id": "w2oE4X2T9xLi",
        "outputId": "48b9494c-863a-4710-94c4-2d1c295c29b9"
      },
      "outputs": [
        {
          "name": "stdout",
          "output_type": "stream",
          "text": [
            "H0-not related\n"
          ]
        }
      ],
      "source": [
        "if p_value >alpha:\n",
        "  print(\"H0-not related\")\n",
        "else:\n",
        "    print(\"H1-related\")"
      ]
    },
    {
      "cell_type": "markdown",
      "metadata": {
        "id": "7RUrfQs2-AwA"
      },
      "source": [
        "ANOVA(one-way ANOVA)"
      ]
    },
    {
      "cell_type": "code",
      "execution_count": null,
      "metadata": {
        "colab": {
          "base_uri": "https://localhost:8080/"
        },
        "id": "eGk0DiTx-G8T",
        "outputId": "bd97555c-6b5c-46a4-d29e-e54f25814490"
      },
      "outputs": [
        {
          "data": {
            "text/plain": [
              "0     12.025883\n",
              "5     11.908740\n",
              "6     11.860823\n",
              "9     11.900454\n",
              "11    12.005734\n",
              "13    11.848961\n",
              "17    11.890938\n",
              "23    11.998091\n",
              "26    11.990464\n",
              "28    11.855906\n",
              "Name: Efficiency, dtype: float64"
            ]
          },
          "execution_count": 28,
          "metadata": {},
          "output_type": "execute_result"
        }
      ],
      "source": [
        "dfA=df[df['Vaccine']=='A']['Efficiency']\n",
        "dfB=df[df['Vaccine']=='B']['Efficiency']\n",
        "dfA"
      ]
    },
    {
      "cell_type": "code",
      "execution_count": null,
      "metadata": {
        "colab": {
          "base_uri": "https://localhost:8080/"
        },
        "id": "y1nN6HjS_C4I",
        "outputId": "c70c1780-5c34-40ca-91f8-541ea265f3c6"
      },
      "outputs": [
        {
          "name": "stdout",
          "output_type": "stream",
          "text": [
            "F-statistic: 1.0757234023273485\n",
            "P-value: 0.3133894618484353\n"
          ]
        }
      ],
      "source": [
        "f_stat,p_value = stats.f_oneway(dfA,dfB)\n",
        "print(\"F-statistic:\",f_stat)\n",
        "print(\"P-value:\",p_value)"
      ]
    },
    {
      "cell_type": "code",
      "execution_count": null,
      "metadata": {
        "id": "SBjZeqyA_Yxc"
      },
      "outputs": [],
      "source": [
        "#set siginificance value\n",
        "alpha=0.05"
      ]
    },
    {
      "cell_type": "code",
      "execution_count": null,
      "metadata": {
        "colab": {
          "base_uri": "https://localhost:8080/"
        },
        "id": "JOoOeQo7_r7-",
        "outputId": "97964f8f-9a37-4592-a74a-987b202fff5a"
      },
      "outputs": [
        {
          "name": "stdout",
          "output_type": "stream",
          "text": [
            "A and B are not related\n"
          ]
        }
      ],
      "source": [
        "if p_value >alpha:\n",
        "  print(\"A and B are not related\")\n",
        "else:\n",
        "    print(\"A and B are related\")"
      ]
    },
    {
      "cell_type": "markdown",
      "metadata": {
        "id": "fGSR-famB5rf"
      },
      "source": [
        "INTERPOLATION\n"
      ]
    },
    {
      "cell_type": "code",
      "execution_count": null,
      "metadata": {
        "colab": {
          "background_save": true,
          "base_uri": "https://localhost:8080/",
          "height": 193
        },
        "id": "t_m82gXxCE5c",
        "outputId": "71790c69-97fe-4fe1-936a-d3dedd79fe49"
      },
      "outputs": [
        {
          "name": "stdout",
          "output_type": "stream",
          "text": [
            "Interpolation Result: 2.0\n"
          ]
        }
      ],
      "source": [
        "from scipy import interpolate\n",
        "#interpolation\n",
        "x_data =np.array([0,1,2,3,4])\n",
        "y_data=np.array([0,2,1,3,5])\n",
        "interp_func=interpolate.interp1d(x_data,y_data,kind='linear')\n",
        "interp_result=interp_func(2.5)\n",
        "print(\"Interpolation Result:\",interp_result)"
      ]
    }
  ],
  "metadata": {
    "colab": {
      "provenance": []
    },
    "kernelspec": {
      "display_name": "Python 3",
      "name": "python3"
    },
    "language_info": {
      "name": "python"
    }
  },
  "nbformat": 4,
  "nbformat_minor": 0
}