{
  "nbformat": 4,
  "nbformat_minor": 0,
  "metadata": {
    "colab": {
      "provenance": []
    },
    "kernelspec": {
      "name": "python3",
      "display_name": "Python 3"
    },
    "language_info": {
      "name": "python"
    }
  },
  "cells": [
    {
      "cell_type": "code",
      "source": [
        "from tensorflow.keras.models import load_model\n",
        "from tensorflow.keras.preprocessing import image\n",
        "import numpy as np"
      ],
      "metadata": {
        "id": "0tv8XiC9hknv"
      },
      "execution_count": null,
      "outputs": []
    },
    {
      "cell_type": "code",
      "source": [
        "#load the save model\n",
        "model=load_model(\"/content/drive/MyDrive/Model.h5\")"
      ],
      "metadata": {
        "id": "CO1iEvvgksBl"
      },
      "execution_count": null,
      "outputs": []
    },
    {
      "cell_type": "code",
      "source": [
        "#load and preprocess the test image\n",
        "test_image_path='/content/drive/MyDrive/Brain tumuor/Test/pred/pred11.jpg'\n",
        "img=image.load_img(test_image_path,target_size=(224,224))\n",
        "img_array=image.img_to_array(img)\n",
        "img_array=np.expand_dims(img_array,axis=0)"
      ],
      "metadata": {
        "id": "4xkM2duMlj2u"
      },
      "execution_count": null,
      "outputs": []
    },
    {
      "cell_type": "code",
      "source": [
        "#Add batch dimension\n",
        "img_array/=255. #Normalize pixel values\n",
        "#Make predictions\n",
        "prediction=model.predict(img_array)\n",
        "#print prediction\n",
        "print(prediction)"
      ],
      "metadata": {
        "colab": {
          "base_uri": "https://localhost:8080/"
        },
        "id": "miAOBMpvooL9",
        "outputId": "cfb61033-6706-4ca5-e292-6b03eda4d6f4"
      },
      "execution_count": null,
      "outputs": [
        {
          "output_type": "stream",
          "name": "stdout",
          "text": [
            "1/1 [==============================] - 0s 303ms/step\n",
            "[[0.]]\n"
          ]
        }
      ]
    },
    {
      "cell_type": "code",
      "source": [
        "if prediction < 0.5:\n",
        "  print(\"Prediction :No tumor \")\n",
        "else:\n",
        "  print(\"Prediction: Tumor present\")"
      ],
      "metadata": {
        "colab": {
          "base_uri": "https://localhost:8080/"
        },
        "id": "jhg88W6csr35",
        "outputId": "9a7fc46c-c1cd-4b28-ff3f-b4f1df9cfaec"
      },
      "execution_count": null,
      "outputs": [
        {
          "output_type": "stream",
          "name": "stdout",
          "text": [
            "Prediction :yes tumor \n"
          ]
        }
      ]
    }
  ]
}