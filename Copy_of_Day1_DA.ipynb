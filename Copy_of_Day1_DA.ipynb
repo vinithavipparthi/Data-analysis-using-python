{
  "nbformat": 4,
  "nbformat_minor": 0,
  "metadata": {
    "colab": {
      "provenance": []
    },
    "kernelspec": {
      "name": "python3",
      "display_name": "Python 3"
    },
    "language_info": {
      "name": "python"
    }
  },
  "cells": [
    {
      "cell_type": "code",
      "execution_count": null,
      "metadata": {
        "colab": {
          "base_uri": "https://localhost:8080/"
        },
        "id": "2RQ3Ry5aSeG9",
        "outputId": "c82456a0-8958-45e3-cf93-d863fd3558b1"
      },
      "outputs": [
        {
          "output_type": "stream",
          "name": "stdout",
          "text": [
            "Iam 10  years old\n"
          ]
        }
      ],
      "source": [
        "#variable\n",
        "a=10\n",
        "print(\"Iam\",a,\" years old\")"
      ]
    },
    {
      "cell_type": "code",
      "source": [
        "#aeithimatic  2 number int variable\n",
        "a=int(input(\"enter a value\"))\n",
        "b=int(input(\"enter bvalue\"))\n",
        "c=a+b\n",
        "print(c)\n",
        "print(\"Difference is\",a-b)\n",
        "print(\"product is\",a*b)\n",
        "print(\"quotient is\",a/b)\n",
        "print(\"remainderis\",a%b)\n",
        "print(\"Power of a to be is \",a**b)\n",
        "print(\"Floor division is\",a//b)2"
      ],
      "metadata": {
        "colab": {
          "base_uri": "https://localhost:8080/"
        },
        "id": "7H6zL5eUTsXH",
        "outputId": "605a8602-9a82-4401-a0d0-60ba84b4bf86"
      },
      "execution_count": null,
      "outputs": [
        {
          "output_type": "stream",
          "name": "stdout",
          "text": [
            "enter a value6548\n",
            "enter bvalue583\n",
            "7131\n",
            "Difference is 5965\n",
            "product is 3817484\n",
            "quotient is 11.231560891938251\n",
            "remainderis 135\n",
            "Power of a to be is  61852184312501393567166293895668957571586957984740541184466278349163154218781811280448799646103998430058114059255501288674319635900874846263513168735794117856718295708004317207430682142256016582737750797990830406421301439425299504675807348060622982665435221363010059792851326584894116954001981679768767155051695363819388381235396104524905883171621666618742676953205021461540522511138476429563854346230632372464684356218322087818710046862344164719418850161724140739695900529549983913544327310784336333282455579187973289294734902889732605695759008529935422073127324979039906650182997686677823349935660094900250990669572203869188290351669172313565628417349720732065388819247842107558746881328816745394114324358472847577227132959452613190829746135866148821681870029199811583995532709117018792204341123711659443696505056919203050446187896833421431907211208387842528937962887080834521321014379253788596717671683365999988919143795967940378005539482538975229680498250155264418826438178331592176042769449067143258972311730667422195031793436256702826023094668206230172468626651347480897802607409367564924761613378954136525357009950108237981798990568174708345187333563872305664258207829359317579313378415513750277915055418720988997245587296945449724088085158805180401450473102780521654529884068545586397609426095384911806187877229063847535900241950224481814299214641260461183106790815886523423886213347640182381654491335032778562154337986845175361798063157487788075467959442500962057990148877726393645487774154015636196506733588762038140123973310346978907662654934650473404151366744150606221259847743272667301678859037325128807550557411835096600444449467999234811575674601599568694130619940854166048271442900687685741188598419414512917318643136475917454230952312198735735028614175375645248339878989664884229007885477132428147272239784927647554537790494728310700556416005682853860102439964284083136582970421945295894216604597303947480307770160913468631701790763961834723095138797828116088088805590415243868944842887093430374845840616318717615657011887890199432701092036041101131495603672622188361615818803369141210854240236408838790739119011380278401468115430221286063203575252360004688263353086074139513652606732869237694254760635400192\n",
            "Floor division is 11\n"
          ]
        }
      ]
    },
    {
      "cell_type": "code",
      "source": [
        "#take a number from the user which is the salary .if the salary is more than 50000,there is a 10% tax deduction.print the final salary\n",
        "s=int(input(\"enter salary\"))\n",
        "if(s>=50000):\n",
        "  tax=s*(10/100)\n",
        "  s=s-tax\n",
        "  print(\"final salary is:\",s)\n",
        "else:\n",
        "    print(\"your salary is less than 50000 no tax deduction\")\n"
      ],
      "metadata": {
        "colab": {
          "base_uri": "https://localhost:8080/"
        },
        "id": "ZY_DVLZoWzfe",
        "outputId": "21319014-a90c-4a7a-b15a-e9336e7a5244"
      },
      "execution_count": null,
      "outputs": [
        {
          "output_type": "stream",
          "name": "stdout",
          "text": [
            "enter salary30000\n",
            "your salary is less than 50000 no tax deduction\n"
          ]
        }
      ]
    },
    {
      "cell_type": "code",
      "source": [
        "#get the salary from the user if yhe salary is more are equal to 50k .apply 10% tax deduction if the salary is less than 50k apply 5% tax . if the  salary is more than 70k .apply 12% tax. if the salary exisit 1lakh print you are promoted  next level .\n",
        "s=int(input(\"enter salary\"))\n",
        "if(s<=50000):\n",
        "  s=s-(s*(5/100))\n",
        "  print(\"final salary is:\",s)\n",
        "elif(s>50000 and s<=70000):\n",
        "  s=s-(s*(10/100))\n",
        "  print(\"salary is \",s)\n",
        "elif(s>70000 and s<100000):\n",
        "  s=s-(s*(12/100))\n",
        "  print(\"salary is\",s)\n",
        "else:\n",
        "  print(\"you are promoted\")\n",
        "\n"
      ],
      "metadata": {
        "colab": {
          "base_uri": "https://localhost:8080/"
        },
        "id": "Ar0NIHECbfOw",
        "outputId": "8eb96608-fee1-4577-8d5a-7846847c26ec"
      },
      "execution_count": null,
      "outputs": [
        {
          "output_type": "stream",
          "name": "stdout",
          "text": [
            "enter salary100000\n",
            "you are promoted\n"
          ]
        }
      ]
    },
    {
      "cell_type": "code",
      "source": [
        "r=range(1,11)\n",
        "n=int(input(\"enter numbmer:\"))\n",
        "for i in r:\n",
        "  print(n,\"X\",i,\"=\",i*n)\n",
        "\n"
      ],
      "metadata": {
        "colab": {
          "base_uri": "https://localhost:8080/"
        },
        "id": "JDCAZG_AjjsQ",
        "outputId": "810e65f1-c689-48ad-c5ef-61183c488e88"
      },
      "execution_count": null,
      "outputs": [
        {
          "output_type": "stream",
          "name": "stdout",
          "text": [
            "enter numbmer:29\n",
            "29 X 1 = 29\n",
            "29 X 2 = 58\n",
            "29 X 3 = 87\n",
            "29 X 4 = 116\n",
            "29 X 5 = 145\n",
            "29 X 6 = 174\n",
            "29 X 7 = 203\n",
            "29 X 8 = 232\n",
            "29 X 9 = 261\n",
            "29 X 10 = 290\n"
          ]
        }
      ]
    },
    {
      "cell_type": "code",
      "source": [
        "#while\n",
        "a=int(input(\"enter a\"))\n",
        "i=1\n",
        "while(i<11):\n",
        "  print(n,\"x\",i,\"=\",i*n)\n",
        "  i=i+1"
      ],
      "metadata": {
        "colab": {
          "base_uri": "https://localhost:8080/"
        },
        "id": "7odjPaDFq9xV",
        "outputId": "7d378409-2f98-43e1-ff62-be545007c5a3"
      },
      "execution_count": null,
      "outputs": [
        {
          "output_type": "stream",
          "name": "stdout",
          "text": [
            "enter a254\n",
            "29 x 1 = 29\n",
            "29 x 2 = 58\n",
            "29 x 3 = 87\n",
            "29 x 4 = 116\n",
            "29 x 5 = 145\n",
            "29 x 6 = 174\n",
            "29 x 7 = 203\n",
            "29 x 8 = 232\n",
            "29 x 9 = 261\n",
            "29 x 10 = 290\n"
          ]
        }
      ]
    },
    {
      "cell_type": "code",
      "source": [
        "#list:\n",
        "l1=[1,8,5,\"charvi\"]\n",
        "print(l1[1:3])"
      ],
      "metadata": {
        "colab": {
          "base_uri": "https://localhost:8080/"
        },
        "id": "EOWT6H-6tUnL",
        "outputId": "05647a23-9979-43a0-bdc9-08f4a8f6fe3c"
      },
      "execution_count": null,
      "outputs": [
        {
          "output_type": "stream",
          "name": "stdout",
          "text": [
            "[8, 5]\n"
          ]
        }
      ]
    },
    {
      "cell_type": "code",
      "source": [
        "#create a heterogeneous list\n",
        "l1=[1,\"kill\",89,\"chat\",9.1,True]\n",
        "for i in l1:\n",
        "  print(i)"
      ],
      "metadata": {
        "colab": {
          "base_uri": "https://localhost:8080/"
        },
        "id": "1o9kTqW_ueGf",
        "outputId": "659e065c-01ff-43b6-e3e4-1bd6012a5acf"
      },
      "execution_count": null,
      "outputs": [
        {
          "output_type": "stream",
          "name": "stdout",
          "text": [
            "1\n",
            "kill\n",
            "89\n",
            "chat\n",
            "9.1\n",
            "True\n"
          ]
        }
      ]
    },
    {
      "cell_type": "code",
      "source": [
        "#mutable:\n",
        "l1.append(\"appended\") #add element at back of list\n",
        "print(l1)\n",
        "l1.insert(4,10)#listname.insert(index,element)\n",
        "print(l1)"
      ],
      "metadata": {
        "colab": {
          "base_uri": "https://localhost:8080/"
        },
        "id": "RSXaRMC4vBqe",
        "outputId": "b5bae96c-9e36-40a9-c671-d77ae3a9fccf"
      },
      "execution_count": null,
      "outputs": [
        {
          "output_type": "stream",
          "name": "stdout",
          "text": [
            "[1, 'kill', 89, 'chat', 10, 9.1, True, 'appended', 'appended', 'appended', 'appended', 'appended', 'appended']\n",
            "[1, 'kill', 89, 'chat', 10, 10, 9.1, True, 'appended', 'appended', 'appended', 'appended', 'appended', 'appended']\n"
          ]
        }
      ]
    },
    {
      "cell_type": "code",
      "source": [
        "#append or extend  #list1.extend(list2)\n",
        "l2=[\"insta\",9,\"cahrvi\",17] #or 1.expend(1>2)\n",
        "l1.extend(l2)#l1=l1+l2\n",
        "print(l1)"
      ],
      "metadata": {
        "colab": {
          "base_uri": "https://localhost:8080/"
        },
        "id": "_HQWHj2owA_3",
        "outputId": "7a24275b-79d6-435e-bb2d-cef1dcabfd31"
      },
      "execution_count": null,
      "outputs": [
        {
          "output_type": "stream",
          "name": "stdout",
          "text": [
            "[1, 'kill', 89, 'chat', 10, 10, 9.1, True, 'appended', 'appended', 'appended', 'appended', 'appended', 'appended', 'insta', 9, 'cahrvi', 17]\n"
          ]
        }
      ]
    },
    {
      "cell_type": "code",
      "source": [
        "#remove\n",
        "l2.remove(\"insta\")  #listname.delete(element)\n",
        "print(l2)"
      ],
      "metadata": {
        "colab": {
          "base_uri": "https://localhost:8080/"
        },
        "id": "ow2irCkivvlr",
        "outputId": "6dd7c60c-9967-4cae-e27c-93cd13a8b478"
      },
      "execution_count": null,
      "outputs": [
        {
          "output_type": "stream",
          "name": "stdout",
          "text": [
            "[9, 17]\n"
          ]
        }
      ]
    },
    {
      "cell_type": "code",
      "source": [
        "#pop\n",
        "l3=[29,\"chinna\",3,4]\n",
        "l3.pop(2)    #listname.pop(index)\n",
        "print(23)"
      ],
      "metadata": {
        "colab": {
          "base_uri": "https://localhost:8080/"
        },
        "id": "t20o0RKwycgq",
        "outputId": "2a7fa0bf-257e-4bf0-97b4-cb10c90249b5"
      },
      "execution_count": null,
      "outputs": [
        {
          "output_type": "stream",
          "name": "stdout",
          "text": [
            "23\n"
          ]
        }
      ]
    },
    {
      "cell_type": "code",
      "source": [
        "#clear()\n",
        "l1.clear()\n",
        "print(l1)"
      ],
      "metadata": {
        "colab": {
          "base_uri": "https://localhost:8080/"
        },
        "id": "9ZFnoVEhzxJq",
        "outputId": "0a4a8576-511b-4ad9-ab1c-6c5eaf1bf3af"
      },
      "execution_count": null,
      "outputs": [
        {
          "output_type": "stream",
          "name": "stdout",
          "text": [
            "[]\n"
          ]
        }
      ]
    },
    {
      "cell_type": "code",
      "source": [
        "#create a lsit of 10 integers elements print there squares. save these squares in new list\n",
        "l=[1,209,123,4,53,656,73,8,9,10]\n",
        "l2=[]\n",
        "for i in l:\n",
        "  l2.append(i**2)\n",
        "print(l2)"
      ],
      "metadata": {
        "colab": {
          "base_uri": "https://localhost:8080/"
        },
        "id": "vl0A6ar00Dkp",
        "outputId": "8b3f7e74-e98d-4154-965a-9b83c801db10"
      },
      "execution_count": null,
      "outputs": [
        {
          "output_type": "stream",
          "name": "stdout",
          "text": [
            "[1, 43681, 15129, 16, 2809, 430336, 5329, 64, 81, 100]\n"
          ]
        }
      ]
    },
    {
      "cell_type": "code",
      "source": [
        "#List comprension\n",
        "#newlist =[output for if]\n",
        "l=[209,123,4,53,656,73,8,9,10]\n",
        "l2=[i*i for i in l if i>50]\n",
        "print(l2)"
      ],
      "metadata": {
        "colab": {
          "base_uri": "https://localhost:8080/"
        },
        "id": "2wuvQtaR1V1t",
        "outputId": "fc7dc5ba-c8da-4a64-974b-c2ed4df74454"
      },
      "execution_count": null,
      "outputs": [
        {
          "output_type": "stream",
          "name": "stdout",
          "text": [
            "[43681, 15129, 2809, 430336, 5329]\n"
          ]
        }
      ]
    },
    {
      "cell_type": "code",
      "source": [
        "#List comprension\n",
        "#newlist =[(st of if) if(cond)else(st of else for)]\n",
        "l=[23,67,12,34,69]\n",
        "l2=[i*i if i>50 else 'X' for i in l ]\n",
        "print(l2)"
      ],
      "metadata": {
        "colab": {
          "base_uri": "https://localhost:8080/"
        },
        "id": "R8Og24QQIiol",
        "outputId": "3d97d07f-9d6a-4582-a926-e144fb39e8b6"
      },
      "execution_count": null,
      "outputs": [
        {
          "output_type": "stream",
          "name": "stdout",
          "text": [
            "['X', 4489, 'X', 'X', 4761]\n"
          ]
        }
      ]
    },
    {
      "cell_type": "code",
      "source": [
        "#take salary from user if the salary is less than 50k,10% tax.otherwisw 15%tax\n",
        "n=int(input(\"enter salary\"))\n",
        "l=[n-n*(0.5)if(n<50000) else n-n*(1.5)]\n",
        "print(l)"
      ],
      "metadata": {
        "colab": {
          "base_uri": "https://localhost:8080/"
        },
        "id": "ZaKhzvp3J9AK",
        "outputId": "f963717d-eeaa-4813-b9da-1ce03575c5da"
      },
      "execution_count": null,
      "outputs": [
        {
          "output_type": "stream",
          "name": "stdout",
          "text": [
            "enter salary45000\n",
            "[22500.0]\n"
          ]
        }
      ]
    },
    {
      "cell_type": "code",
      "source": [
        "l1=[20000,40000,70000,90000]\n",
        "l=[n-(n*0.1)if(n<=50000) else n-(n*0.15) for n in l1]\n",
        "print(l)"
      ],
      "metadata": {
        "colab": {
          "base_uri": "https://localhost:8080/"
        },
        "id": "gU1mJPn3LC-w",
        "outputId": "9da4dde2-4794-4085-89e1-f1f627e97cae"
      },
      "execution_count": null,
      "outputs": [
        {
          "output_type": "stream",
          "name": "stdout",
          "text": [
            "[18000.0, 36000.0, 59500.0, 76500.0]\n"
          ]
        }
      ]
    },
    {
      "cell_type": "code",
      "source": [
        "#dictionary\n",
        "dict1={\"Mentor\":'jwalitha',34:'Likitha',35:'Ramya',37:'Lavanya',58:\"Dhanush\"}\n",
        "print(dict1)\n",
        "print(dict1.keys())\n",
        "print(dict1.values)"
      ],
      "metadata": {
        "colab": {
          "base_uri": "https://localhost:8080/"
        },
        "id": "mY-j4jM4Mk_D",
        "outputId": "328dbef2-1168-4afb-a3fb-7e7163e6777c"
      },
      "execution_count": null,
      "outputs": [
        {
          "output_type": "stream",
          "name": "stdout",
          "text": [
            "{'Mentor': 'jwalitha', 34: 'Likitha', 35: 'Ramya', 37: 'Lavanya', 58: 'Dhanush'}\n",
            "dict_keys(['Mentor', 34, 35, 37, 58])\n",
            "<built-in method values of dict object at 0x7838dca41340>\n"
          ]
        }
      ]
    },
    {
      "cell_type": "code",
      "source": [
        "dict1={\"Mentor\":\"jwalitha\",34:\"Likitha\",35:\"Ramya\",37:\"Lavanya\",58:\"Dhanush\"}\n",
        "print(dict1[34])"
      ],
      "metadata": {
        "colab": {
          "base_uri": "https://localhost:8080/"
        },
        "id": "RwCUCE5PPJg1",
        "outputId": "fc830487-45a8-4587-bc72-6eb2610a708e"
      },
      "execution_count": null,
      "outputs": [
        {
          "output_type": "stream",
          "name": "stdout",
          "text": [
            "Likitha\n"
          ]
        }
      ]
    },
    {
      "cell_type": "code",
      "source": [],
      "metadata": {
        "id": "GxqI843xTixq"
      },
      "execution_count": null,
      "outputs": []
    },
    {
      "cell_type": "code",
      "source": [
        "dict3={\"Dept\":\"CSE\",\"details\":{\"year\":\"II\",\"sec\":\"D\",\"count\":71}}\n",
        "print(\"year is\",dict3[\"details\"][\"year\"])\n",
        "print(\"section is\",dict3[\"details\"][\"sec\"])\n",
        "print(\"strenght is\",dict3[\"details\"][\"count\"])\n"
      ],
      "metadata": {
        "colab": {
          "base_uri": "https://localhost:8080/"
        },
        "id": "2mXhlbRzQTX2",
        "outputId": "2c2c1c18-9708-4e20-db09-fc4be1c2d971"
      },
      "execution_count": null,
      "outputs": [
        {
          "output_type": "stream",
          "name": "stdout",
          "text": [
            "year is II\n",
            "section is D\n",
            "strenght is 71\n"
          ]
        }
      ]
    },
    {
      "cell_type": "code",
      "source": [
        "idl=[34,56,78,39,100]\n",
        "name=[\"Joe\",\"Suji\",\"Rohini\",\"Shankar\",\"main\"]\n",
        "new_zip=(zip(idl,name))\n",
        "for i in new_zip:\n",
        "  print(i)"
      ],
      "metadata": {
        "colab": {
          "base_uri": "https://localhost:8080/"
        },
        "id": "ZcDn6XoxSARv",
        "outputId": "e2e5fccf-9d8d-49fd-d788-bb02becbbbb4"
      },
      "execution_count": null,
      "outputs": [
        {
          "output_type": "stream",
          "name": "stdout",
          "text": [
            "(34, 'Joe')\n",
            "(56, 'Suji')\n",
            "(78, 'Rohini')\n",
            "(39, 'Shankar')\n",
            "(100, 'main')\n"
          ]
        }
      ]
    },
    {
      "cell_type": "code",
      "source": [
        "idl=[34,56,78,39,100]\n",
        "name=[\"Joe\",\"Suji\",\"Rohini\",\"Shankar\",\"main\"]\n",
        "new_zip=(zip(idl,name))\n",
        "print(dict(zip(idl,name)))\n"
      ],
      "metadata": {
        "colab": {
          "base_uri": "https://localhost:8080/"
        },
        "id": "6rw5oPsrSwuM",
        "outputId": "201056f8-c4a3-4e72-8630-3b8864e3b842"
      },
      "execution_count": null,
      "outputs": [
        {
          "output_type": "stream",
          "name": "stdout",
          "text": [
            "{34: 'Joe', 56: 'Suji', 78: 'Rohini', 39: 'Shankar', 100: 'main'}\n"
          ]
        }
      ]
    },
    {
      "cell_type": "code",
      "source": [
        "#Numpy\n",
        "import numpy as np\n",
        "A=np.array([1,2,3,4])#1d array\n",
        "print(A.ndim)\n",
        "print(A.shape)\n"
      ],
      "metadata": {
        "colab": {
          "base_uri": "https://localhost:8080/"
        },
        "id": "7jH7mT1XTmmm",
        "outputId": "f6ddf35d-d3f1-49bb-a46f-858b16654756"
      },
      "execution_count": null,
      "outputs": [
        {
          "output_type": "stream",
          "name": "stdout",
          "text": [
            "1\n",
            "(4,)\n"
          ]
        }
      ]
    },
    {
      "cell_type": "code",
      "source": [
        "#create a 2 dimensional array\n",
        "B=np.array([[1,2,3,4],['a','b','c','d'],['@','#','$','%']])\n",
        "print(B)\n",
        "print(B.ndim)\n",
        "print(B.shape)\n",
        "\n"
      ],
      "metadata": {
        "colab": {
          "base_uri": "https://localhost:8080/"
        },
        "id": "UrL14FmqfbHE",
        "outputId": "7fc719a2-1df7-4dc5-dce0-f834f7f43fda"
      },
      "execution_count": null,
      "outputs": [
        {
          "output_type": "stream",
          "name": "stdout",
          "text": [
            "[['1' '2' '3' '4']\n",
            " ['a' 'b' 'c' 'd']\n",
            " ['@' '#' '$' '%']]\n",
            "2\n",
            "(3, 4)\n"
          ]
        }
      ]
    },
    {
      "cell_type": "code",
      "source": [
        "#create a 3 dimesional array\n",
        "C=np.array([[[1,2,3],[4,5,6]],[[77,44,23],[22,98,7]]])\n",
        "print(C)\n",
        "print(C.ndim)\n",
        "print(C.shape)\n"
      ],
      "metadata": {
        "colab": {
          "base_uri": "https://localhost:8080/"
        },
        "id": "hHGQiz5ogXCp",
        "outputId": "1296539f-37ce-4289-db71-9d6d12a2c140"
      },
      "execution_count": null,
      "outputs": [
        {
          "output_type": "stream",
          "name": "stdout",
          "text": [
            "[[[ 1  2  3]\n",
            "  [ 4  5  6]]\n",
            "\n",
            " [[77 44 23]\n",
            "  [22 98  7]]]\n",
            "3\n",
            "(2, 2, 3)\n"
          ]
        }
      ]
    },
    {
      "cell_type": "code",
      "source": [
        " z=np.ones((2,4,3))#g,r,c\n",
        " print(z)"
      ],
      "metadata": {
        "colab": {
          "base_uri": "https://localhost:8080/"
        },
        "id": "aSns5xIFiEGv",
        "outputId": "5c03a81d-acab-48e8-c042-08fe88d76c49"
      },
      "execution_count": null,
      "outputs": [
        {
          "output_type": "stream",
          "name": "stdout",
          "text": [
            "[[[1. 1. 1.]\n",
            "  [1. 1. 1.]\n",
            "  [1. 1. 1.]\n",
            "  [1. 1. 1.]]\n",
            "\n",
            " [[1. 1. 1.]\n",
            "  [1. 1. 1.]\n",
            "  [1. 1. 1.]\n",
            "  [1. 1. 1.]]]\n"
          ]
        }
      ]
    },
    {
      "cell_type": "code",
      "source": [
        " z=np.zeros((2,4,3))#(g,r,c)\n",
        " print(z)"
      ],
      "metadata": {
        "colab": {
          "base_uri": "https://localhost:8080/"
        },
        "id": "JiCN6Twrjir9",
        "outputId": "d784dd64-b9a6-49ad-fbf1-5d95d1469094"
      },
      "execution_count": null,
      "outputs": [
        {
          "output_type": "stream",
          "name": "stdout",
          "text": [
            "[[[0. 0. 0.]\n",
            "  [0. 0. 0.]\n",
            "  [0. 0. 0.]\n",
            "  [0. 0. 0.]]\n",
            "\n",
            " [[0. 0. 0.]\n",
            "  [0. 0. 0.]\n",
            "  [0. 0. 0.]\n",
            "  [0. 0. 0.]]]\n"
          ]
        }
      ]
    },
    {
      "cell_type": "code",
      "source": [
        "x=np.eye(4)\n",
        "print(x)"
      ],
      "metadata": {
        "colab": {
          "base_uri": "https://localhost:8080/"
        },
        "id": "Ys-cFoJbjz_5",
        "outputId": "06ed8dbf-de01-47a1-96fa-5aeb11486201"
      },
      "execution_count": null,
      "outputs": [
        {
          "output_type": "stream",
          "name": "stdout",
          "text": [
            "[[1. 0. 0. 0.]\n",
            " [0. 1. 0. 0.]\n",
            " [0. 0. 1. 0.]\n",
            " [0. 0. 0. 1.]]\n"
          ]
        }
      ]
    },
    {
      "cell_type": "code",
      "source": [
        "y=np.arange(1,10,2)#start,stop,step\n",
        "print(y)\n",
        "print(type(y))"
      ],
      "metadata": {
        "colab": {
          "base_uri": "https://localhost:8080/"
        },
        "id": "CQQbEWIakt-r",
        "outputId": "16298507-e927-4da8-da3c-ba583c299658"
      },
      "execution_count": null,
      "outputs": [
        {
          "output_type": "stream",
          "name": "stdout",
          "text": [
            "[1 3 5 7 9]\n",
            "<class 'numpy.ndarray'>\n"
          ]
        }
      ]
    },
    {
      "cell_type": "code",
      "source": [
        "#print all the number that divisible by 8 using arange b/w 1 to 1000\n",
        "l=np.arange(8,1000,8)\n",
        "print(l)\n",
        "print(type(l))"
      ],
      "metadata": {
        "colab": {
          "base_uri": "https://localhost:8080/"
        },
        "id": "3z3e4ZWHlCnR",
        "outputId": "9662d864-e65b-4a14-8833-9dcb1e9a318c"
      },
      "execution_count": null,
      "outputs": [
        {
          "output_type": "stream",
          "name": "stdout",
          "text": [
            "[  8  16  24  32  40  48  56  64  72  80  88  96 104 112 120 128 136 144\n",
            " 152 160 168 176 184 192 200 208 216 224 232 240 248 256 264 272 280 288\n",
            " 296 304 312 320 328 336 344 352 360 368 376 384 392 400 408 416 424 432\n",
            " 440 448 456 464 472 480 488 496 504 512 520 528 536 544 552 560 568 576\n",
            " 584 592 600 608 616 624 632 640 648 656 664 672 680 688 696 704 712 720\n",
            " 728 736 744 752 760 768 776 784 792 800 808 816 824 832 840 848 856 864\n",
            " 872 880 888 896 904 912 920 928 936 944 952 960 968 976 984 992]\n",
            "<class 'numpy.ndarray'>\n"
          ]
        }
      ]
    },
    {
      "cell_type": "code",
      "source": [
        "#spliting a range of number having common differnce\n",
        "q=np.linspace(33,45,21)\n",
        "print(q)"
      ],
      "metadata": {
        "colab": {
          "base_uri": "https://localhost:8080/"
        },
        "id": "REtJEoAYmTIT",
        "outputId": "4d0a4328-21b2-4c4e-cb7b-f80d32f05954"
      },
      "execution_count": null,
      "outputs": [
        {
          "output_type": "stream",
          "name": "stdout",
          "text": [
            "[33.  33.6 34.2 34.8 35.4 36.  36.6 37.2 37.8 38.4 39.  39.6 40.2 40.8\n",
            " 41.4 42.  42.6 43.2 43.8 44.4 45. ]\n"
          ]
        }
      ]
    },
    {
      "cell_type": "code",
      "source": [
        "#"
      ],
      "metadata": {
        "id": "aZqJ6j2NnwWl"
      },
      "execution_count": null,
      "outputs": []
    },
    {
      "cell_type": "code",
      "source": [],
      "metadata": {
        "id": "ymJfxL1NTFpR"
      },
      "execution_count": null,
      "outputs": []
    },
    {
      "cell_type": "markdown",
      "source": [],
      "metadata": {
        "id": "AnGsodY7cBJ6"
      }
    }
  ]
}